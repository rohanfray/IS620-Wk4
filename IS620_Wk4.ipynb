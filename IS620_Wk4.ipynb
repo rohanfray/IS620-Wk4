{
 "cells": [
  {
   "cell_type": "code",
   "execution_count": 1,
   "metadata": {
    "collapsed": true
   },
   "outputs": [],
   "source": [
    "import networkx as nx"
   ]
  },
  {
   "cell_type": "code",
   "execution_count": 2,
   "metadata": {
    "collapsed": false
   },
   "outputs": [],
   "source": [
    "from prettytable import PrettyTable"
   ]
  },
  {
   "cell_type": "markdown",
   "metadata": {},
   "source": [
    "Data is political blogs linked to each other.  Most of these blogs links are dead\n",
    "\n",
    "Lada A. Adamic and Natalie Glance, \"The\n",
    "political blogosphere and the 2004 US Election\", in Proceedings of the\n",
    "WWW-2005 Workshop on the Weblogging Ecosystem (2005)"
   ]
  },
  {
   "cell_type": "markdown",
   "metadata": {},
   "source": [
    "#####First we will load the data and look at some of its properties"
   ]
  },
  {
   "cell_type": "code",
   "execution_count": 3,
   "metadata": {
    "collapsed": true
   },
   "outputs": [],
   "source": [
    "G = nx.read_gml(\"polblogs.gml\")"
   ]
  },
  {
   "cell_type": "markdown",
   "metadata": {},
   "source": [
    "#####The label is the website and the value is 0 or 1 depending on whether the political blog is left or right leaning"
   ]
  },
  {
   "cell_type": "code",
   "execution_count": 4,
   "metadata": {
    "collapsed": false
   },
   "outputs": [
    {
     "data": {
      "text/plain": [
       "{'id': 345,\n",
       " 'label': u'lawdork.blogspot.com',\n",
       " 'source': u'LeftyDirectory,eTalkingHead',\n",
       " 'value': 0}"
      ]
     },
     "execution_count": 4,
     "metadata": {},
     "output_type": "execute_result"
    }
   ],
   "source": [
    "G.node[345]"
   ]
  },
  {
   "cell_type": "code",
   "execution_count": 5,
   "metadata": {
    "collapsed": false
   },
   "outputs": [
    {
     "data": {
      "text/plain": [
       "True"
      ]
     },
     "execution_count": 5,
     "metadata": {},
     "output_type": "execute_result"
    }
   ],
   "source": [
    "nx.is_directed(G)"
   ]
  },
  {
   "cell_type": "code",
   "execution_count": 6,
   "metadata": {
    "collapsed": false
   },
   "outputs": [
    {
     "data": {
      "text/plain": [
       "19090"
      ]
     },
     "execution_count": 6,
     "metadata": {},
     "output_type": "execute_result"
    }
   ],
   "source": [
    "G.number_of_edges()"
   ]
  },
  {
   "cell_type": "code",
   "execution_count": 7,
   "metadata": {
    "collapsed": false
   },
   "outputs": [
    {
     "data": {
      "text/plain": [
       "1490"
      ]
     },
     "execution_count": 7,
     "metadata": {},
     "output_type": "execute_result"
    }
   ],
   "source": [
    "G.number_of_nodes()"
   ]
  },
  {
   "cell_type": "code",
   "execution_count": 8,
   "metadata": {
    "collapsed": false
   },
   "outputs": [
    {
     "data": {
      "text/plain": [
       "False"
      ]
     },
     "execution_count": 8,
     "metadata": {},
     "output_type": "execute_result"
    }
   ],
   "source": [
    "nx.is_strongly_connected(G)"
   ]
  },
  {
   "cell_type": "code",
   "execution_count": 9,
   "metadata": {
    "collapsed": false
   },
   "outputs": [
    {
     "data": {
      "text/plain": [
       "False"
      ]
     },
     "execution_count": 9,
     "metadata": {},
     "output_type": "execute_result"
    }
   ],
   "source": [
    "nx.is_weakly_connected(G)"
   ]
  },
  {
   "cell_type": "markdown",
   "metadata": {},
   "source": [
    "#####We will only concern ourselves with the largest weakly connected subgraph"
   ]
  },
  {
   "cell_type": "code",
   "execution_count": 10,
   "metadata": {
    "collapsed": false
   },
   "outputs": [],
   "source": [
    "i=nx.weakly_connected_component_subgraphs(G)"
   ]
  },
  {
   "cell_type": "code",
   "execution_count": 11,
   "metadata": {
    "collapsed": false
   },
   "outputs": [],
   "source": [
    "l = max(i, key = len)"
   ]
  },
  {
   "cell_type": "code",
   "execution_count": 12,
   "metadata": {
    "collapsed": false
   },
   "outputs": [
    {
     "data": {
      "text/plain": [
       "1222"
      ]
     },
     "execution_count": 12,
     "metadata": {},
     "output_type": "execute_result"
    }
   ],
   "source": [
    "l.number_of_nodes()"
   ]
  },
  {
   "cell_type": "code",
   "execution_count": 13,
   "metadata": {
    "collapsed": false
   },
   "outputs": [
    {
     "data": {
      "text/plain": [
       "True"
      ]
     },
     "execution_count": 13,
     "metadata": {},
     "output_type": "execute_result"
    }
   ],
   "source": [
    "nx.is_weakly_connected(l)"
   ]
  },
  {
   "cell_type": "markdown",
   "metadata": {},
   "source": [
    "##First we will look at centrality at all the nodes in the Graph"
   ]
  },
  {
   "cell_type": "markdown",
   "metadata": {},
   "source": [
    "###Degree Centrality"
   ]
  },
  {
   "cell_type": "code",
   "execution_count": 14,
   "metadata": {
    "collapsed": true
   },
   "outputs": [],
   "source": [
    "deg=nx.degree(G)"
   ]
  },
  {
   "cell_type": "code",
   "execution_count": 15,
   "metadata": {
    "collapsed": false
   },
   "outputs": [],
   "source": [
    "deg_cent=nx.degree_centrality(G)"
   ]
  },
  {
   "cell_type": "code",
   "execution_count": 16,
   "metadata": {
    "collapsed": false
   },
   "outputs": [],
   "source": [
    "deg_sort=sorted(deg_cent.iteritems(),key=lambda(k,v):(-v,k))"
   ]
  },
  {
   "cell_type": "code",
   "execution_count": 17,
   "metadata": {
    "collapsed": false
   },
   "outputs": [
    {
     "data": {
      "text/plain": [
       "[(855, 0.3143049026192075),\n",
       " (155, 0.25789120214909333),\n",
       " (1051, 0.24378777703156482),\n",
       " (55, 0.23572867696440566),\n",
       " (641, 0.1900604432505037),\n",
       " (729, 0.17192746809939558),\n",
       " (963, 0.16453995970449967),\n",
       " (1245, 0.1584956346541303),\n",
       " (1153, 0.15379449294828745)]"
      ]
     },
     "execution_count": 17,
     "metadata": {},
     "output_type": "execute_result"
    }
   ],
   "source": [
    "deg_sort[0:9]"
   ]
  },
  {
   "cell_type": "markdown",
   "metadata": {},
   "source": [
    "###Betweenness Centrality"
   ]
  },
  {
   "cell_type": "code",
   "execution_count": 18,
   "metadata": {
    "collapsed": true
   },
   "outputs": [],
   "source": [
    "bet_cent=nx.betweenness_centrality(G)"
   ]
  },
  {
   "cell_type": "code",
   "execution_count": 19,
   "metadata": {
    "collapsed": true
   },
   "outputs": [],
   "source": [
    "bet_sort=sorted(bet_cent.iteritems(),key=lambda(k,v):(-v,k))"
   ]
  },
  {
   "cell_type": "code",
   "execution_count": 20,
   "metadata": {
    "collapsed": false
   },
   "outputs": [
    {
     "data": {
      "text/plain": [
       "[(855, 0.09860123355546516),\n",
       " (55, 0.041065409701381644),\n",
       " (1051, 0.034423597988754114),\n",
       " (155, 0.024815500156320013),\n",
       " (454, 0.020714412538725437),\n",
       " (387, 0.020319988222406524),\n",
       " (1479, 0.018325573772945088),\n",
       " (1101, 0.016309365690314936),\n",
       " (1041, 0.015458192296913366)]"
      ]
     },
     "execution_count": 20,
     "metadata": {},
     "output_type": "execute_result"
    }
   ],
   "source": [
    "bet_sort[0:9]"
   ]
  },
  {
   "cell_type": "markdown",
   "metadata": {},
   "source": [
    "###Closeness Centrality"
   ]
  },
  {
   "cell_type": "code",
   "execution_count": 21,
   "metadata": {
    "collapsed": true
   },
   "outputs": [],
   "source": [
    "clo_cent=nx.closeness_centrality(G)"
   ]
  },
  {
   "cell_type": "code",
   "execution_count": 22,
   "metadata": {
    "collapsed": true
   },
   "outputs": [],
   "source": [
    "clo_sort=sorted(clo_cent.iteritems(),key=lambda(k,v):(-v,k))"
   ]
  },
  {
   "cell_type": "code",
   "execution_count": 23,
   "metadata": {
    "collapsed": false
   },
   "outputs": [
    {
     "data": {
      "text/plain": [
       "[(855, 0.2707203175398935),\n",
       " (880, 0.26707623163293015),\n",
       " (387, 0.26523353232024066),\n",
       " (935, 0.26523353232024066),\n",
       " (927, 0.2635289466369486),\n",
       " (856, 0.25996473434092904),\n",
       " (1427, 0.2583269892694826),\n",
       " (1351, 0.25596194816922097),\n",
       " (467, 0.25521849022848053)]"
      ]
     },
     "execution_count": 23,
     "metadata": {},
     "output_type": "execute_result"
    }
   ],
   "source": [
    "clo_sort[0:9]"
   ]
  },
  {
   "cell_type": "markdown",
   "metadata": {},
   "source": [
    "###Eigenvector Centrality- We need to convert multigraph to graph"
   ]
  },
  {
   "cell_type": "code",
   "execution_count": null,
   "metadata": {
    "collapsed": true
   },
   "outputs": [],
   "source": [
    "G2=nx.Graph(G)"
   ]
  },
  {
   "cell_type": "code",
   "execution_count": 46,
   "metadata": {
    "collapsed": false
   },
   "outputs": [
    {
     "data": {
      "text/plain": [
       "[(155, 0.1642162196125852),\n",
       " (55, 0.16052664009981785),\n",
       " (641, 0.14928415558560892),\n",
       " (729, 0.1396364639017293),\n",
       " (363, 0.11899412475351646),\n",
       " (180, 0.1178756132221919),\n",
       " (1051, 0.11336486178426823),\n",
       " (99, 0.11121661701967456),\n",
       " (493, 0.10814306309694945)]"
      ]
     },
     "execution_count": 46,
     "metadata": {},
     "output_type": "execute_result"
    }
   ],
   "source": [
    "eig_cent = nx.eigenvector_centrality(G2)\n",
    "eig_sort = sorted(eig_cent.iteritems(), key = lambda(k,v):(-v,k))\n",
    "eig_sort[0:9]"
   ]
  },
  {
   "cell_type": "markdown",
   "metadata": {},
   "source": [
    "###Like the book, we shall look at a table of the blogs for the top measures"
   ]
  },
  {
   "cell_type": "code",
   "execution_count": 47,
   "metadata": {
    "collapsed": false
   },
   "outputs": [],
   "source": [
    "names1=[x[0] for x in deg_sort[:10]]\n",
    "names2=[x[0] for x in bet_sort[:10]]\n",
    "names3=[x[0] for x in clo_sort[:10]]\n",
    "names4=[x[0] for x in eig_sort[:10]]\n",
    "names=list(set(names1)|set(names2)|set(names3)|set(names4))"
   ]
  },
  {
   "cell_type": "code",
   "execution_count": 48,
   "metadata": {
    "collapsed": false
   },
   "outputs": [],
   "source": [
    "table=[[name,G.node[name]['label'],G.node[name]['value'],deg[name],round(deg_cent[name],4),round(bet_cent[name],4),round(clo_cent[name],4),round(eig_cent[name],4)] for name in names]"
   ]
  },
  {
   "cell_type": "code",
   "execution_count": 49,
   "metadata": {
    "collapsed": false
   },
   "outputs": [],
   "source": [
    "table=sorted(table,key=lambda x: -x[3])"
   ]
  },
  {
   "cell_type": "code",
   "execution_count": 50,
   "metadata": {
    "collapsed": true
   },
   "outputs": [],
   "source": [
    "t = PrettyTable(['ID','Link','Value','Degree','Degree Cent','Betweenness','Closeness','EigenCent'])\n",
    "for i in range(0, len(table)):\n",
    "    t.add_row(table[i])"
   ]
  },
  {
   "cell_type": "code",
   "execution_count": 51,
   "metadata": {
    "collapsed": false,
    "scrolled": true
   },
   "outputs": [
    {
     "name": "stdout",
     "output_type": "stream",
     "text": [
      "+------+-----------------------------------+-------+--------+-------------+-------------+-----------+-----------+\n",
      "|  ID  |                Link               | Value | Degree | Degree Cent | Betweenness | Closeness | EigenCent |\n",
      "+------+-----------------------------------+-------+--------+-------------+-------------+-----------+-----------+\n",
      "| 855  |          blogsforbush.com         |   1   |  468   |    0.3143   |    0.0986   |   0.2707  |   0.0518  |\n",
      "| 155  |            dailykos.com           |   0   |  384   |    0.2579   |    0.0248   |   0.2037  |   0.1642  |\n",
      "| 1051 |          instapundit.com          |   1   |  363   |    0.2438   |    0.0344   |   0.242   |   0.1134  |\n",
      "|  55  |        atrios.blogspot.com        |   0   |  351   |    0.2357   |    0.0411   |   0.2368  |   0.1605  |\n",
      "| 641  |       talkingpointsmemo.com       |   0   |  283   |    0.1901   |    0.0055   |   0.1875  |   0.1493  |\n",
      "| 729  |       washingtonmonthly.com       |   0   |  256   |    0.1719   |    0.0147   |   0.2196  |   0.1396  |\n",
      "| 963  |          drudgereport.com         |   1   |  245   |    0.1645   |    0.0086   |   0.1362  |   0.0531  |\n",
      "| 1245 |         powerlineblog.com         |   1   |  236   |    0.1585   |    0.0046   |   0.1962  |   0.0743  |\n",
      "| 1153 |         michellemalkin.com        |   1   |  229   |    0.1538   |    0.0142   |   0.2311  |   0.0683  |\n",
      "| 1041 |           hughhewitt.com          |   1   |  225   |    0.1511   |    0.0155   |   0.2369  |   0.068   |\n",
      "| 1479 |          wizbangblog.com          |   1   |  220   |    0.1478   |    0.0183   |   0.2439  |   0.0584  |\n",
      "| 1101 |         lashawnbarber.com         |   1   |  219   |    0.1471   |    0.0163   |   0.2457  |   0.0557  |\n",
      "| 363  |          liberaloasis.com         |   0   |  216   |    0.1451   |    0.0143   |   0.2235  |   0.119   |\n",
      "| 180  |      digbysblog.blogspot.com      |   0   |  189   |    0.1269   |    0.0136   |   0.2298  |   0.1179  |\n",
      "|  99  |      bodyandsoul.typepad.com      |   0   |  182   |    0.1222   |    0.0064   |   0.242   |   0.1112  |\n",
      "| 454  |     newleftblogs.blogspot.com     |   0   |  179   |    0.1202   |    0.0207   |   0.2469  |   0.0955  |\n",
      "| 493  |            pandagon.net           |   0   |  171   |    0.1148   |    0.0037   |   0.2199  |   0.1081  |\n",
      "| 387  |      madkane.com/notable.html     |   0   |  170   |    0.1142   |    0.0203   |   0.2652  |   0.1025  |\n",
      "| 642  |            talkleft.com           |   0   |  162   |    0.1088   |    0.0049   |   0.2143  |   0.1074  |\n",
      "| 880  |         cayankee.blogs.com        |   1   |  142   |    0.0954   |    0.0061   |   0.2671  |   0.047   |\n",
      "| 856  |           blogsofwar.com          |   1   |  122   |    0.0819   |    0.0073   |    0.26   |   0.0521  |\n",
      "| 935  |          dalythoughts.com         |   1   |  114   |    0.0766   |    0.0039   |   0.2652  |   0.0534  |\n",
      "| 1427 |     thomasgalvin.blogspot.com     |   1   |   93   |    0.0625   |    0.0021   |   0.2583  |   0.0512  |\n",
      "| 467  |     nomoremister.blogspot.com     |   0   |   89   |    0.0598   |    0.0128   |   0.2552  |   0.0735  |\n",
      "| 765  | acertainslantoflight.blogspot.com |   1   |   78   |    0.0524   |    0.0012   |   0.2552  |   0.0475  |\n",
      "| 927  |         cynicalnation.com         |   1   |   61   |    0.041    |    0.0033   |   0.2635  |   0.0363  |\n",
      "| 1351 |            slowplay.com           |   1   |   59   |    0.0396   |    0.0011   |   0.256   |   0.0252  |\n",
      "+------+-----------------------------------+-------+--------+-------------+-------------+-----------+-----------+\n"
     ]
    }
   ],
   "source": [
    "print(t)"
   ]
  },
  {
   "cell_type": "markdown",
   "metadata": {
    "collapsed": true
   },
   "source": [
    "#Now let us look at each of the left and right leaning groups"
   ]
  },
  {
   "cell_type": "markdown",
   "metadata": {},
   "source": [
    "##First we will create subgraphs for each of the groups"
   ]
  },
  {
   "cell_type": "code",
   "execution_count": 29,
   "metadata": {
    "collapsed": false
   },
   "outputs": [],
   "source": [
    "nodes0=[]\n",
    "nodes1=[]"
   ]
  },
  {
   "cell_type": "code",
   "execution_count": 30,
   "metadata": {
    "collapsed": false
   },
   "outputs": [],
   "source": [
    "for i,j in G.nodes_iter(data=True):\n",
    "    if j['value']==0:\n",
    "        nodes0.append(i)\n",
    "    else:\n",
    "        nodes1.append(i)"
   ]
  },
  {
   "cell_type": "code",
   "execution_count": 31,
   "metadata": {
    "collapsed": true
   },
   "outputs": [],
   "source": [
    "G_node0 = G.subgraph(nodes0)\n",
    "G_node1 = G.subgraph(nodes1)"
   ]
  },
  {
   "cell_type": "code",
   "execution_count": 32,
   "metadata": {
    "collapsed": false
   },
   "outputs": [
    {
     "data": {
      "text/plain": [
       "758"
      ]
     },
     "execution_count": 32,
     "metadata": {},
     "output_type": "execute_result"
    }
   ],
   "source": [
    "G_node0.number_of_nodes()"
   ]
  },
  {
   "cell_type": "code",
   "execution_count": 62,
   "metadata": {
    "collapsed": false
   },
   "outputs": [
    {
     "data": {
      "text/plain": [
       "8408"
      ]
     },
     "execution_count": 62,
     "metadata": {},
     "output_type": "execute_result"
    }
   ],
   "source": [
    "G_node0.number_of_edges()"
   ]
  },
  {
   "cell_type": "code",
   "execution_count": 33,
   "metadata": {
    "collapsed": false
   },
   "outputs": [
    {
     "data": {
      "text/plain": [
       "732"
      ]
     },
     "execution_count": 33,
     "metadata": {},
     "output_type": "execute_result"
    }
   ],
   "source": [
    "G_node1.number_of_nodes()"
   ]
  },
  {
   "cell_type": "code",
   "execution_count": 63,
   "metadata": {
    "collapsed": false
   },
   "outputs": [
    {
     "data": {
      "text/plain": [
       "8994"
      ]
     },
     "execution_count": 63,
     "metadata": {},
     "output_type": "execute_result"
    }
   ],
   "source": [
    "G_node1.number_of_edges()"
   ]
  },
  {
   "cell_type": "code",
   "execution_count": 52,
   "metadata": {
    "collapsed": true
   },
   "outputs": [],
   "source": [
    "def createTable(graph):\n",
    "    deg=nx.degree(graph)\n",
    "    deg_cent=nx.degree_centrality(graph)\n",
    "    deg_sort=sorted(deg_cent.iteritems(),key=lambda(k,v):(-v,k))\n",
    "    bet_cent=nx.betweenness_centrality(graph)\n",
    "    bet_sort=sorted(bet_cent.iteritems(),key=lambda(k,v):(-v,k))\n",
    "    clo_cent=nx.closeness_centrality(graph)\n",
    "    clo_sort=sorted(clo_cent.iteritems(),key=lambda(k,v):(-v,k))\n",
    "    G2=nx.Graph(graph)\n",
    "    eig_cent = nx.eigenvector_centrality(G2)\n",
    "    eig_sort = sorted(eig_cent.iteritems(), key = lambda(k,v):(-v,k))\n",
    "    names1=[x[0] for x in deg_sort[:10]]\n",
    "    names2=[x[0] for x in bet_sort[:10]]\n",
    "    names3=[x[0] for x in clo_sort[:10]]\n",
    "    names4=[x[0] for x in eig_sort[:10]]\n",
    "    names=list(set(names1)|set(names2)|set(names3)|set(names4))\n",
    "    table=[[name,graph.node[name]['label'],graph.node[name]['value'],deg[name],round(deg_cent[name],4),round(bet_cent[name],4),round(clo_cent[name],4),round(eig_cent[name],4)] for name in names]\n",
    "    table=sorted(table,key=lambda x: -x[3])\n",
    "    t = PrettyTable(['ID','Link','Value','Degree','Degree Cent','Betweenness','Closeness','EigenCent'])\n",
    "    for i in range(0, len(table)):\n",
    "        t.add_row(table[i])\n",
    "    return t"
   ]
  },
  {
   "cell_type": "code",
   "execution_count": 53,
   "metadata": {
    "collapsed": false
   },
   "outputs": [
    {
     "name": "stdout",
     "output_type": "stream",
     "text": [
      "+-----+-----------------------------+-------+--------+-------------+-------------+-----------+-----------+\n",
      "|  ID |             Link            | Value | Degree | Degree Cent | Betweenness | Closeness | EigenCent |\n",
      "+-----+-----------------------------+-------+--------+-------------+-------------+-----------+-----------+\n",
      "| 155 |         dailykos.com        |   0   |  338   |    0.4465   |    0.0386   |   0.2132  |   0.1769  |\n",
      "|  55 |     atrios.blogspot.com     |   0   |  329   |    0.4346   |    0.064    |   0.2524  |   0.1786  |\n",
      "| 641 |    talkingpointsmemo.com    |   0   |  242   |    0.3197   |    0.0083   |   0.1851  |   0.1538  |\n",
      "| 363 |       liberaloasis.com      |   0   |  214   |    0.2827   |    0.0307   |   0.2609  |   0.1419  |\n",
      "| 729 |    washingtonmonthly.com    |   0   |  205   |    0.2708   |    0.012    |   0.206   |   0.1374  |\n",
      "| 180 |   digbysblog.blogspot.com   |   0   |  182   |    0.2404   |    0.0135   |   0.2462  |   0.1348  |\n",
      "|  99 |   bodyandsoul.typepad.com   |   0   |  180   |    0.2378   |    0.0136   |   0.2588  |   0.1319  |\n",
      "| 144 |    corrente.blogspot.com    |   0   |  177   |    0.2338   |    0.0155   |   0.2577  |   0.1252  |\n",
      "| 454 |  newleftblogs.blogspot.com  |   0   |  174   |    0.2299   |    0.0379   |   0.2716  |   0.1111  |\n",
      "| 493 |         pandagon.net        |   0   |  165   |    0.218    |    0.0056   |   0.213   |   0.1251  |\n",
      "| 387 |   madkane.com/notable.html  |   0   |  157   |    0.2074   |    0.0327   |   0.2877  |   0.1149  |\n",
      "| 512 |    politicalstrategy.org    |   0   |  147   |    0.1942   |    0.0139   |   0.2794  |   0.1239  |\n",
      "| 202 |   elayneriggs.blogspot.com  |   0   |  133   |    0.1757   |    0.0051   |   0.2618  |   0.103   |\n",
      "| 524 | presidentboxer.blogspot.com |   0   |  119   |    0.1572   |    0.0049   |   0.2804  |   0.0998  |\n",
      "|  40 |    anoldsoul.blogspot.com   |   0   |  112   |    0.148    |    0.0064   |   0.2618  |   0.0977  |\n",
      "| 568 |  robschumacher.blogspot.com |   0   |   83   |    0.1096   |    0.0215   |   0.2494  |   0.0514  |\n",
      "| 612 |     snunes.blogspot.com     |   0   |   77   |    0.1017   |    0.0018   |   0.254   |   0.0785  |\n",
      "+-----+-----------------------------+-------+--------+-------------+-------------+-----------+-----------+\n"
     ]
    }
   ],
   "source": [
    "print(createTable(G_node0))"
   ]
  },
  {
   "cell_type": "code",
   "execution_count": 54,
   "metadata": {
    "collapsed": false
   },
   "outputs": [
    {
     "name": "stdout",
     "output_type": "stream",
     "text": [
      "+------+---------------------------------------+-------+--------+-------------+-------------+-----------+-----------+\n",
      "|  ID  |                  Link                 | Value | Degree | Degree Cent | Betweenness | Closeness | EigenCent |\n",
      "+------+---------------------------------------+-------+--------+-------------+-------------+-----------+-----------+\n",
      "| 855  |            blogsforbush.com           |   1   |  463   |    0.6334   |    0.2088   |   0.4447  |   0.1457  |\n",
      "| 1051 |            instapundit.com            |   1   |  297   |    0.4063   |    0.0237   |   0.2888  |   0.2003  |\n",
      "| 1153 |           michellemalkin.com          |   1   |  215   |    0.2941   |    0.015    |   0.2778  |   0.1532  |\n",
      "| 963  |            drudgereport.com           |   1   |  212   |     0.29    |    0.0008   |   0.0055  |   0.1077  |\n",
      "| 1101 |           lashawnbarber.com           |   1   |  212   |     0.29    |    0.0353   |   0.3668  |   0.1385  |\n",
      "| 1245 |           powerlineblog.com           |   1   |  210   |    0.2873   |    0.0065   |   0.2476  |   0.1565  |\n",
      "| 1041 |             hughhewitt.com            |   1   |  209   |    0.2859   |    0.0253   |   0.3385  |   0.1529  |\n",
      "| 1000 | gevkaffeegal.typepad.com/the_alliance |   1   |  209   |    0.2859   |    0.0343   |   0.3417  |   0.0659  |\n",
      "| 1479 |            wizbangblog.com            |   1   |  198   |    0.2709   |    0.0214   |   0.3095  |   0.1355  |\n",
      "| 1112 |    littlegreenfootballs.com/weblog    |   1   |  194   |    0.2654   |    0.0223   |   0.3063  |   0.1539  |\n",
      "| 1437 |           truthlaidbear.com           |   1   |  159   |    0.2175   |    0.0101   |   0.3056  |   0.1194  |\n",
      "| 1461 |            vodkapundit.com            |   1   |  150   |    0.2052   |    0.0072   |   0.2866  |   0.1286  |\n",
      "| 980  |         evangelicaloutpost.com        |   1   |  148   |    0.2025   |    0.0197   |   0.3589  |   0.0816  |\n",
      "| 880  |           cayankee.blogs.com          |   1   |  131   |    0.1792   |    0.0052   |   0.369   |   0.1117  |\n",
      "| 892  |         chrenkoff.blogspot.com        |   1   |  115   |    0.1573   |    0.0134   |   0.3308  |   0.0914  |\n",
      "| 1384 |        techievampire.net/wppol        |   1   |  111   |    0.1518   |    0.0036   |   0.3617  |   0.0967  |\n",
      "| 935  |            dalythoughts.com           |   1   |   97   |    0.1327   |    0.0046   |   0.3486  |   0.0957  |\n",
      "| 1135 |           martinipundit.com           |   1   |   93   |    0.1272   |    0.0046   |   0.3482  |   0.0935  |\n",
      "| 900  |    commonsenserunswild.typepad.com    |   1   |   90   |    0.1231   |    0.0023   |   0.3571  |   0.0944  |\n",
      "| 966  |             dummocrats.com            |   1   |   80   |    0.1094   |    0.0027   |   0.3449  |   0.0805  |\n",
      "| 953  |      discerningtexan.blogspot.com     |   1   |   77   |    0.1053   |    0.0012   |   0.3512  |   0.0856  |\n",
      "+------+---------------------------------------+-------+--------+-------------+-------------+-----------+-----------+\n"
     ]
    }
   ],
   "source": [
    "print(createTable(G_node1))"
   ]
  },
  {
   "cell_type": "markdown",
   "metadata": {},
   "source": [
    "###It seems that the right leaning blogs have higher degree and closeness within themselves"
   ]
  },
  {
   "cell_type": "markdown",
   "metadata": {},
   "source": [
    "###Two blogs stick out, ID 363 and ID 1000 have relatively high degree and centralities within the respective 0 and 1 subgraphs, but are not in the overall top measurements for the whole graph"
   ]
  },
  {
   "cell_type": "code",
   "execution_count": 55,
   "metadata": {
    "collapsed": true
   },
   "outputs": [],
   "source": [
    "def getDetails(G, deg, deg_cent, bet_cent, clo_cent, eig_cent, name):\n",
    "    table=[[name,G.node[name]['label'],G.node[name]['value'],deg[name],round(deg_cent[name],4),round(bet_cent[name],4),round(clo_cent[name],4),round(eig_cent[name],4)]]\n",
    "    table=sorted(table,key=lambda x: -x[3])\n",
    "    t = PrettyTable(['ID','Link','Value','Degree','Degree Cent','Betweenness','Closeness','EigenCent'])\n",
    "    for i in range(0, len(table)):\n",
    "        t.add_row(table[i])\n",
    "    return t"
   ]
  },
  {
   "cell_type": "code",
   "execution_count": 56,
   "metadata": {
    "collapsed": false
   },
   "outputs": [
    {
     "name": "stdout",
     "output_type": "stream",
     "text": [
      "+-----+------------------+-------+--------+-------------+-------------+-----------+-----------+\n",
      "|  ID |       Link       | Value | Degree | Degree Cent | Betweenness | Closeness | EigenCent |\n",
      "+-----+------------------+-------+--------+-------------+-------------+-----------+-----------+\n",
      "| 363 | liberaloasis.com |   0   |  216   |    0.1451   |    0.0143   |   0.2235  |   0.119   |\n",
      "+-----+------------------+-------+--------+-------------+-------------+-----------+-----------+\n"
     ]
    }
   ],
   "source": [
    "print(getDetails(G,deg,deg_cent,bet_cent,clo_cent,eig_cent,363))"
   ]
  },
  {
   "cell_type": "code",
   "execution_count": 57,
   "metadata": {
    "collapsed": false
   },
   "outputs": [
    {
     "name": "stdout",
     "output_type": "stream",
     "text": [
      "+------+---------------------------------------+-------+--------+-------------+-------------+-----------+-----------+\n",
      "|  ID  |                  Link                 | Value | Degree | Degree Cent | Betweenness | Closeness | EigenCent |\n",
      "+------+---------------------------------------+-------+--------+-------------+-------------+-----------+-----------+\n",
      "| 1000 | gevkaffeegal.typepad.com/the_alliance |   1   |  212   |    0.1424   |    0.0142   |   0.2374  |   0.022   |\n",
      "+------+---------------------------------------+-------+--------+-------------+-------------+-----------+-----------+\n"
     ]
    }
   ],
   "source": [
    "print(getDetails(G,deg,deg_cent,bet_cent,clo_cent,eig_cent,1000))"
   ]
  },
  {
   "cell_type": "markdown",
   "metadata": {
    "collapsed": true
   },
   "source": [
    "###I'm interested to see the make up these nodes' neighbors"
   ]
  },
  {
   "cell_type": "code",
   "execution_count": 58,
   "metadata": {
    "collapsed": true
   },
   "outputs": [],
   "source": [
    "def neighbor_details(G, node):\n",
    "    count0 = 0\n",
    "    count1 = 0\n",
    "    for i in G.neighbors(node):\n",
    "        if G.node[i]['value'] == 0:\n",
    "            count0 +=1\n",
    "        else:\n",
    "            count1 +=1\n",
    "    return [count0,count1]"
   ]
  },
  {
   "cell_type": "code",
   "execution_count": 59,
   "metadata": {
    "collapsed": false
   },
   "outputs": [
    {
     "data": {
      "text/plain": [
       "[115, 0]"
      ]
     },
     "execution_count": 59,
     "metadata": {},
     "output_type": "execute_result"
    }
   ],
   "source": [
    "neighbor_details(G, 363)"
   ]
  },
  {
   "cell_type": "code",
   "execution_count": 60,
   "metadata": {
    "collapsed": false
   },
   "outputs": [
    {
     "data": {
      "text/plain": [
       "[2, 108]"
      ]
     },
     "execution_count": 60,
     "metadata": {},
     "output_type": "execute_result"
    }
   ],
   "source": [
    "neighbor_details(G, 1000)"
   ]
  },
  {
   "cell_type": "markdown",
   "metadata": {},
   "source": [
    "#####So each of these blogs are only connected within their respective groups and do not really link to the other group"
   ]
  },
  {
   "cell_type": "markdown",
   "metadata": {},
   "source": [
    "##Some t-tests:"
   ]
  },
  {
   "cell_type": "code",
   "execution_count": 90,
   "metadata": {
    "collapsed": true
   },
   "outputs": [],
   "source": [
    "from scipy import stats\n",
    "import numpy as np"
   ]
  },
  {
   "cell_type": "code",
   "execution_count": 91,
   "metadata": {
    "collapsed": false
   },
   "outputs": [
    {
     "data": {
      "text/plain": [
       "(array([-1.10924099]), array([ 0.26750547]))"
      ]
     },
     "execution_count": 91,
     "metadata": {},
     "output_type": "execute_result"
    }
   ],
   "source": [
    "stats.ttest_ind((np.array([[deg_cent[name]] for name in nodes0])),(np.array([[deg_cent[name]] for name in nodes1])))"
   ]
  },
  {
   "cell_type": "code",
   "execution_count": 92,
   "metadata": {
    "collapsed": false
   },
   "outputs": [
    {
     "data": {
      "text/plain": [
       "(array([-0.05147238]), array([ 0.95895602]))"
      ]
     },
     "execution_count": 92,
     "metadata": {},
     "output_type": "execute_result"
    }
   ],
   "source": [
    "stats.ttest_ind((np.array([[bet_cent[name]] for name in nodes0])),(np.array([[bet_cent[name]] for name in nodes1])))"
   ]
  },
  {
   "cell_type": "code",
   "execution_count": 93,
   "metadata": {
    "collapsed": false
   },
   "outputs": [
    {
     "data": {
      "text/plain": [
       "(array([-5.30244343]), array([  1.31485194e-07]))"
      ]
     },
     "execution_count": 93,
     "metadata": {},
     "output_type": "execute_result"
    }
   ],
   "source": [
    "stats.ttest_ind((np.array([[clo_cent[name]] for name in nodes0])),(np.array([[clo_cent[name]] for name in nodes1])))"
   ]
  },
  {
   "cell_type": "code",
   "execution_count": 94,
   "metadata": {
    "collapsed": false
   },
   "outputs": [
    {
     "data": {
      "text/plain": [
       "(array([ 6.61865308]), array([  5.04504258e-11]))"
      ]
     },
     "execution_count": 94,
     "metadata": {},
     "output_type": "execute_result"
    }
   ],
   "source": [
    "stats.ttest_ind((np.array([[eig_cent[name]] for name in nodes0])),(np.array([[eig_cent[name]] for name in nodes1])))"
   ]
  }
 ],
 "metadata": {
  "kernelspec": {
   "display_name": "Python 2",
   "language": "python",
   "name": "python2"
  },
  "language_info": {
   "codemirror_mode": {
    "name": "ipython",
    "version": 2
   },
   "file_extension": ".py",
   "mimetype": "text/x-python",
   "name": "python",
   "nbconvert_exporter": "python",
   "pygments_lexer": "ipython2",
   "version": "2.7.5"
  }
 },
 "nbformat": 4,
 "nbformat_minor": 0
}
